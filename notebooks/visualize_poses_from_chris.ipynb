{
 "cells": [
  {
   "cell_type": "code",
   "execution_count": null,
   "metadata": {},
   "outputs": [],
   "source": []
  },
  {
   "cell_type": "code",
   "execution_count": null,
   "metadata": {},
   "outputs": [],
   "source": [
    "\n",
    "\n",
    "import json\n",
    "from tqdm import tqdm\n",
    "import os, os.path\n",
    "from rekall import Interval, IntervalSet, IntervalSetMapping, Bounds3D\n",
    "from vgrid import VGridSpec, VideoMetadata, VideoBlockFormat, FlatFormat\n",
    "from vgrid import SpatialType_Keypoints, Metadata_Keypoints\n",
    "from vgrid_jupyter import VGridWidget\n",
    "\n",
    "\n",
    "# # Load metadata for videos\n",
    "# \n",
    "# Read from `/media/4tb_hdd/shared/goodvideo_lpch/file_metadata.json`."
   ]
  },
  {
   "cell_type": "code",
   "execution_count": null,
   "metadata": {},
   "outputs": [],
   "source": [
    "\n",
    "\n",
    "VIDEO_DIR='/home/clee/code/eegml/data/goodvideo_lpch'\n",
    "\n",
    "with open('/home/clee/code/eegml/data/goodvideo_lpch/video-metadata.json', 'r') as f:\n",
    "    video_files = json.load(f)\n",
    "    \n",
    "print('There are {} videos with metadata'.format(len(video_files)))\n",
    "\n",
    "metadata_videos = [\n",
    "    VideoMetadata(\n",
    "        v[\"filename\"], id=v[\"id\"], fps=v[\"fps\"],\n",
    "        num_frames=int(v[\"num_frames\"]), width=v[\"width\"], height=v[\"height\"])\n",
    "    for v in video_files\n",
    "]\n",
    "\n",
    "\n",
    "# # Load pose annotations"
   ]
  },
  {
   "cell_type": "code",
   "execution_count": null,
   "metadata": {
    "lines_to_next_cell": 2
   },
   "outputs": [],
   "source": [
    "\n",
    "\n",
    "pose_annotation_files = []\n",
    "with open(os.path.join(VIDEO_DIR,'pose_annotation_list.txt'), 'r') as f:\n",
    "    for line in f.readlines():\n",
    "        pose_annotation_files.append(os.path.join(VIDEO_DIR,line.strip()))"
   ]
  },
  {
   "cell_type": "code",
   "execution_count": null,
   "metadata": {
    "lines_to_next_cell": 2
   },
   "outputs": [],
   "source": [
    "\n",
    "\n",
    "metadata_videos[0].path"
   ]
  },
  {
   "cell_type": "code",
   "execution_count": null,
   "metadata": {
    "lines_to_next_cell": 2
   },
   "outputs": [],
   "source": [
    "\n",
    "\n",
    "pose_annotation_files[0]"
   ]
  },
  {
   "cell_type": "code",
   "execution_count": null,
   "metadata": {
    "lines_to_next_cell": 2
   },
   "outputs": [],
   "source": [
    "\n",
    "\n",
    "def json_path_to_video_path(json_path):\n",
    "    return os.path.join(\n",
    "        os.path.basename(os.path.dirname(json_path)),\n",
    "        os.path.basename(json_path)\n",
    "    )[:-4]"
   ]
  },
  {
   "cell_type": "code",
   "execution_count": null,
   "metadata": {
    "lines_to_next_cell": 2
   },
   "outputs": [],
   "source": [
    "\n",
    "\n",
    "def video_path_to_vm(video_path):\n",
    "    for vm in metadata_videos:\n",
    "        if vm.path[:-3] == video_path:\n",
    "            return vm\n",
    "    return None"
   ]
  },
  {
   "cell_type": "code",
   "execution_count": null,
   "metadata": {
    "lines_to_next_cell": 2
   },
   "outputs": [],
   "source": [
    "\n",
    "\n",
    "def pose_annotation_to_array(pose_annotation):\n",
    "    '''\n",
    "    Assumes a format that looks like this for each frame:\n",
    "    {\n",
    "        '0': {'0': [0.5694444444444444, 0.5271739130434783]},\n",
    "        '1': {'1': [0.4675925925925926, 0.7391304347826086]},\n",
    "        '2': {'2': [0.2962962962962963, 0.7717391304347826]},\n",
    "        '5': {'5': [0.6712962962962963, 0.6902173913043478]},\n",
    "        '6': {'6': [0.7314814814814815, 0.9184782608695652]},\n",
    "        '14': {'14': [0.5231481481481481, 0.45652173913043476]},\n",
    "        '15': {'15': [0.6157407407407407, 0.483695652173913]},\n",
    "        '16': {'16': [0.4027777777777778, 0.483695652173913]},\n",
    "        '17': {'17': [0.6435185185185185, 0.5163043478260869]}\n",
    "    }\n",
    "    '''\n",
    "    new_pose = []\n",
    "    for i in range(18):\n",
    "        if str(i) in pose:\n",
    "            keypoint = pose[str(i)][str(i)]\n",
    "            new_pose.append([keypoint[0], keypoint[1], 1])\n",
    "        else:\n",
    "            new_pose.append([0, 0, 0])\n",
    "    return new_pose"
   ]
  },
  {
   "cell_type": "code",
   "execution_count": null,
   "metadata": {
    "lines_to_next_cell": 2
   },
   "outputs": [],
   "source": [
    "\n",
    "\n",
    "pose_metadata = {}\n",
    "for pose_annotation_file in pose_annotation_files:\n",
    "    pose_intervals = []\n",
    "    with open(pose_annotation_file, 'r') as f:\n",
    "        stride = 10\n",
    "        pose_annotations = [\n",
    "            json.loads(line.strip())\n",
    "            for line in f.readlines()\n",
    "        ][::stride]\n",
    "        \n",
    "        video_meta = video_path_to_vm(\n",
    "            json_path_to_video_path(pose_annotation_file)\n",
    "        )\n",
    "        \n",
    "        if video_meta is None:\n",
    "            continue\n",
    "        \n",
    "        for frame_number, pose_annotation in tqdm(enumerate(pose_annotations), total=len(pose_annotations)):\n",
    "            start = (frame_number * stride) / video_meta.fps\n",
    "            end = (frame_number + 1) * stride / video_meta.fps\n",
    "            for pose in pose_annotation:\n",
    "                pose_intervals.append(\n",
    "                    Interval(\n",
    "                        Bounds3D(start, end),\n",
    "                        {\n",
    "                            'spatial_type': SpatialType_Keypoints(),\n",
    "                            'metadata': {\n",
    "                                'pose': Metadata_Keypoints.from_openpose(\n",
    "                                    pose_annotation_to_array(pose)\n",
    "                                )\n",
    "                            }\n",
    "                        }\n",
    "                    )\n",
    "                )\n",
    "        \n",
    "        pose_metadata[video_meta.id] = IntervalSet(pose_intervals)"
   ]
  },
  {
   "cell_type": "code",
   "execution_count": null,
   "metadata": {
    "lines_to_next_cell": 2
   },
   "outputs": [],
   "source": [
    "\n",
    "\n",
    "pose_annotation_files"
   ]
  },
  {
   "cell_type": "code",
   "execution_count": null,
   "metadata": {
    "lines_to_next_cell": 2
   },
   "outputs": [],
   "source": [
    "\n",
    "\n",
    "vgrid_spec = VGridSpec(\n",
    "    video_meta = metadata_videos,\n",
    "    vis_format = VideoBlockFormat(imaps = [\n",
    "        ('pose', IntervalSetMapping(pose_metadata))\n",
    "    ]),\n",
    "    video_endpoint = 'http://localhost:8080'\n",
    ")\n",
    "VGridWidget(vgrid_spec = vgrid_spec.to_json_compressed())"
   ]
  },
  {
   "cell_type": "code",
   "execution_count": null,
   "metadata": {
    "lines_to_next_cell": 2
   },
   "outputs": [],
   "source": [
    "\n",
    "\n"
   ]
  }
 ],
 "metadata": {
  "jupytext": {
   "cell_metadata_filter": "-all",
   "encoding": "# coding: utf-8",
   "executable": "/usr/bin/env python",
   "main_language": "python",
   "notebook_metadata_filter": "-all"
  }
 },
 "nbformat": 4,
 "nbformat_minor": 2
}
